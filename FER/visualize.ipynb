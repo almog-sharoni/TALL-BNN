{
 "cells": [
  {
   "cell_type": "markdown",
   "id": "8dda9311",
   "metadata": {},
   "source": [
    "# Visualize FER2013 Train Loader Transforms\n",
    "This notebook demonstrates how the data augmentation and preprocessing transforms affect the FER2013 training images. We use the utilities from `train_fer.py`."
   ]
  },
  {
   "cell_type": "code",
   "execution_count": 1,
   "id": "45003422",
   "metadata": {},
   "outputs": [],
   "source": [
    "import os\n",
    "import sys\n",
    "import torch\n",
    "import torchvision\n",
    "import matplotlib.pyplot as plt\n",
    "\n",
    "# Add parent directory to path to import train_fer utilities\n",
    "sys.path.append(os.path.abspath(os.path.join(os.path.dirname(\"./train_fer.py\"), '..')))\n",
    "from FER import train_fer"
   ]
  },
  {
   "cell_type": "code",
   "execution_count": 2,
   "id": "93987c68",
   "metadata": {},
   "outputs": [
    {
     "name": "stdout",
     "output_type": "stream",
     "text": [
      "Loaded 28709 train samples\n",
      "Class distribution:\n",
      "  0 (angry): 3995 samples\n",
      "  1 (disgust): 436 samples\n",
      "  2 (fear): 4097 samples\n",
      "  3 (happy): 7215 samples\n",
      "  4 (sad): 4830 samples\n",
      "  5 (surprise): 3171 samples\n",
      "  6 (neutral): 4965 samples\n",
      "Loaded 7178 test samples\n",
      "Class distribution:\n",
      "  0 (angry): 958 samples\n",
      "  1 (disgust): 111 samples\n",
      "  2 (fear): 1024 samples\n",
      "  3 (happy): 1774 samples\n",
      "  4 (sad): 1247 samples\n",
      "  5 (surprise): 831 samples\n",
      "  6 (neutral): 1233 samples\n"
     ]
    },
    {
     "data": {
      "image/png": "[encoded data removed]",
      "text/plain": [
       "<Figure size 800x400 with 1 Axes>"
      ]
     },
     "metadata": {},
     "output_type": "display_data"
    }
   ],
   "source": [
    "# Set the data directory (relative to this notebook)\n",
    "data_dir = os.path.abspath(os.path.join( '..', 'data', 'FER2013'))\n",
    "\n",
    "# Visualize a batch of images with transforms\n",
    "train_fer.visualize_train_transforms(data_dir, batch_size=8, data_augmentation=True)"
   ]
  },
  {
   "cell_type": "code",
   "execution_count": 3,
   "id": "1793a849",
   "metadata": {},
   "outputs": [
    {
     "name": "stdout",
     "output_type": "stream",
     "text": [
      "Loaded 28709 train samples\n",
      "Class distribution:\n",
      "  0 (angry): 3995 samples\n",
      "  1 (disgust): 436 samples\n",
      "  2 (fear): 4097 samples\n",
      "  3 (happy): 7215 samples\n",
      "  4 (sad): 4830 samples\n",
      "  5 (surprise): 3171 samples\n",
      "  6 (neutral): 4965 samples\n",
      "Loaded 7178 test samples\n",
      "Class distribution:\n",
      "  0 (angry): 958 samples\n",
      "  1 (disgust): 111 samples\n",
      "  2 (fear): 1024 samples\n",
      "  3 (happy): 1774 samples\n",
      "  4 (sad): 1247 samples\n",
      "  5 (surprise): 831 samples\n",
      "  6 (neutral): 1233 samples\n",
      "Sample 1 - Label: 3\n",
      "tensor([ 1.,  1., -1., -1., -1., -1., -1., -1., -1., -1.,  1.,  1.,  1.,  1.,\n",
      "         1.,  1.,  1.,  1.,  1.,  1.])\n",
      "---\n",
      "Sample 2 - Label: 6\n",
      "tensor([-1., -1., -1., -1., -1., -1., -1., -1., -1., -1., -1., -1., -1., -1.,\n",
      "        -1.,  1.,  1.,  1.,  1.,  1.])\n",
      "---\n",
      "Sample 3 - Label: 0\n",
      "tensor([-1., -1., -1., -1., -1., -1., -1., -1., -1., -1., -1., -1., -1., -1.,\n",
      "        -1., -1., -1., -1., -1., -1.])\n",
      "---\n",
      "Sample 4 - Label: 2\n",
      "tensor([-1., -1., -1., -1., -1., -1., -1., -1., -1., -1., -1., -1., -1., -1.,\n",
      "        -1., -1., -1., -1., -1., -1.])\n",
      "---\n",
      "Sample 1 - Label: 3\n",
      "tensor([ 1.,  1., -1., -1., -1., -1., -1., -1., -1., -1.,  1.,  1.,  1.,  1.,\n",
      "         1.,  1.,  1.,  1.,  1.,  1.])\n",
      "---\n",
      "Sample 2 - Label: 6\n",
      "tensor([-1., -1., -1., -1., -1., -1., -1., -1., -1., -1., -1., -1., -1., -1.,\n",
      "        -1.,  1.,  1.,  1.,  1.,  1.])\n",
      "---\n",
      "Sample 3 - Label: 0\n",
      "tensor([-1., -1., -1., -1., -1., -1., -1., -1., -1., -1., -1., -1., -1., -1.,\n",
      "        -1., -1., -1., -1., -1., -1.])\n",
      "---\n",
      "Sample 4 - Label: 2\n",
      "tensor([-1., -1., -1., -1., -1., -1., -1., -1., -1., -1., -1., -1., -1., -1.,\n",
      "        -1., -1., -1., -1., -1., -1.])\n",
      "---\n"
     ]
    }
   ],
   "source": [
    "# Print some sample image vectors and their labels from the train loader\n",
    "train_loader, _, _ = train_fer.get_fer_loaders(\n",
    "    data_dir=data_dir,\n",
    "    batch_size=8,\n",
    "    data_augmentation=True,\n",
    "    balanced_sampling=False\n",
    ")\n",
    "\n",
    "images, labels = next(iter(train_loader))\n",
    "\n",
    "for i in range(min(4, images.shape[0])):\n",
    "    print(f\"Sample {i+1} - Label: {labels[i].item()}\")\n",
    "    print(images[i].flatten()[:20])  # Print first 20 values of the flattened image tensor\n",
    "    print('---')"
   ]
  },
  {
   "cell_type": "code",
   "execution_count": null,
   "id": "264016bd",
   "metadata": {},
   "outputs": [],
   "source": []
  },
  {
   "cell_type": "code",
   "execution_count": 4,
   "id": "52dbd53c",
   "metadata": {},
   "outputs": [
    {
     "name": "stdout",
     "output_type": "stream",
     "text": [
      "Loaded 28709 train samples\n",
      "Class distribution:\n",
      "  0 (angry): 3995 samples\n",
      "  1 (disgust): 436 samples\n",
      "  2 (fear): 4097 samples\n",
      "  3 (happy): 7215 samples\n",
      "  4 (sad): 4830 samples\n",
      "  5 (surprise): 3171 samples\n",
      "  6 (neutral): 4965 samples\n",
      "Loaded 7178 test samples\n",
      "Class distribution:\n",
      "  0 (angry): 958 samples\n",
      "  1 (disgust): 111 samples\n",
      "  2 (fear): 1024 samples\n",
      "  3 (happy): 1774 samples\n",
      "  4 (sad): 1247 samples\n",
      "  5 (surprise): 831 samples\n",
      "  6 (neutral): 1233 samples\n",
      "\n",
      "Image 1 - Label: 3 (Happy)\n",
      "Tensor shape: torch.Size([1, 48, 48])\n",
      "Min value: -1.000, Max value: 1.000\n",
      "First 20 pixel values: [-1.0, -1.0, -1.0, 1.0, 1.0, 1.0, -1.0, -1.0, -1.0, -1.0, 1.0, -1.0, -1.0, -1.0, -1.0, -1.0, 1.0, -1.0, -1.0, -1.0]\n",
      "------------------------------------------------------------\n",
      "\n",
      "Image 2 - Label: 6 (Neutral)\n",
      "Tensor shape: torch.Size([1, 48, 48])\n",
      "Min value: -1.000, Max value: 1.000\n",
      "First 20 pixel values: [1.0, 1.0, -1.0, -1.0, -1.0, -1.0, -1.0, -1.0, -1.0, 1.0, 1.0, 1.0, 1.0, 1.0, 1.0, 1.0, 1.0, 1.0, 1.0, 1.0]\n",
      "------------------------------------------------------------\n",
      "\n",
      "Image 3 - Label: 4 (Sad)\n",
      "Tensor shape: torch.Size([1, 48, 48])\n",
      "Min value: -1.000, Max value: 1.000\n",
      "First 20 pixel values: [-1.0, -1.0, -1.0, -1.0, -1.0, -1.0, -1.0, -1.0, -1.0, 1.0, -1.0, -1.0, -1.0, -1.0, -1.0, -1.0, -1.0, -1.0, -1.0, -1.0]\n",
      "------------------------------------------------------------\n",
      "\n",
      "Image 4 - Label: 5 (Surprise)\n",
      "Tensor shape: torch.Size([1, 48, 48])\n",
      "Min value: -1.000, Max value: 1.000\n",
      "First 20 pixel values: [1.0, 1.0, 1.0, 1.0, 1.0, 1.0, 1.0, 1.0, -1.0, -1.0, -1.0, -1.0, 1.0, 1.0, 1.0, 1.0, 1.0, 1.0, 1.0, 1.0]\n",
      "------------------------------------------------------------\n",
      "\n",
      "Image 1 - Label: 3 (Happy)\n",
      "Tensor shape: torch.Size([1, 48, 48])\n",
      "Min value: -1.000, Max value: 1.000\n",
      "First 20 pixel values: [-1.0, -1.0, -1.0, 1.0, 1.0, 1.0, -1.0, -1.0, -1.0, -1.0, 1.0, -1.0, -1.0, -1.0, -1.0, -1.0, 1.0, -1.0, -1.0, -1.0]\n",
      "------------------------------------------------------------\n",
      "\n",
      "Image 2 - Label: 6 (Neutral)\n",
      "Tensor shape: torch.Size([1, 48, 48])\n",
      "Min value: -1.000, Max value: 1.000\n",
      "First 20 pixel values: [1.0, 1.0, -1.0, -1.0, -1.0, -1.0, -1.0, -1.0, -1.0, 1.0, 1.0, 1.0, 1.0, 1.0, 1.0, 1.0, 1.0, 1.0, 1.0, 1.0]\n",
      "------------------------------------------------------------\n",
      "\n",
      "Image 3 - Label: 4 (Sad)\n",
      "Tensor shape: torch.Size([1, 48, 48])\n",
      "Min value: -1.000, Max value: 1.000\n",
      "First 20 pixel values: [-1.0, -1.0, -1.0, -1.0, -1.0, -1.0, -1.0, -1.0, -1.0, 1.0, -1.0, -1.0, -1.0, -1.0, -1.0, -1.0, -1.0, -1.0, -1.0, -1.0]\n",
      "------------------------------------------------------------\n",
      "\n",
      "Image 4 - Label: 5 (Surprise)\n",
      "Tensor shape: torch.Size([1, 48, 48])\n",
      "Min value: -1.000, Max value: 1.000\n",
      "First 20 pixel values: [1.0, 1.0, 1.0, 1.0, 1.0, 1.0, 1.0, 1.0, -1.0, -1.0, -1.0, -1.0, 1.0, 1.0, 1.0, 1.0, 1.0, 1.0, 1.0, 1.0]\n",
      "------------------------------------------------------------\n"
     ]
    },
    {
     "data": {
      "image/png": "[encoded data removed]",
      "text/plain": [
       "<Figure size 1200x800 with 4 Axes>"
      ]
     },
     "metadata": {},
     "output_type": "display_data"
    }
   ],
   "source": [
    "# Display images and print their tensor values for the same batch\n",
    "import matplotlib.pyplot as plt\n",
    "\n",
    "# Get a batch of images\n",
    "train_loader, _, _ = train_fer.get_fer_loaders(\n",
    "    data_dir=data_dir,\n",
    "    batch_size=4,\n",
    "    data_augmentation=True,\n",
    "    balanced_sampling=False\n",
    ")\n",
    "\n",
    "images, labels = next(iter(train_loader))\n",
    "\n",
    "# Emotion names for labels\n",
    "emotion_names = ['Angry', 'Disgust', 'Fear', 'Happy', 'Sad', 'Surprise', 'Neutral']\n",
    "\n",
    "# Display images\n",
    "plt.figure(figsize=(12, 8))\n",
    "for i in range(min(4, images.shape[0])):\n",
    "    # Plot image\n",
    "    plt.subplot(2, 2, i+1)\n",
    "    # Unnormalize for display\n",
    "    img_display = images[i] * 0.5 + 0.5\n",
    "    plt.imshow(img_display.squeeze(), cmap='gray')\n",
    "    plt.title(f'Image {i+1}: {emotion_names[labels[i].item()]}')\n",
    "    plt.axis('off')\n",
    "    \n",
    "    # Print tensor values for this image\n",
    "    print(f\"\\nImage {i+1} - Label: {labels[i].item()} ({emotion_names[labels[i].item()]})\")\n",
    "    print(f\"Tensor shape: {images[i].shape}\")\n",
    "    print(f\"Min value: {images[i].min().item():.3f}, Max value: {images[i].max().item():.3f}\")\n",
    "    print(f\"First 20 pixel values: {images[i].flatten()[:20].tolist()}\")\n",
    "    print(\"-\" * 60)\n",
    "\n",
    "plt.tight_layout()\n",
    "plt.show()"
   ]
  }
 ],
 "metadata": {
  "kernelspec": {
   "display_name": "Python 3",
   "language": "python",
   "name": "python3"
  },
  "language_info": {
   "codemirror_mode": {
    "name": "ipython",
    "version": 3
   },
   "file_extension": ".py",
   "mimetype": "text/x-python",
   "name": "python",
   "nbconvert_exporter": "python",
   "pygments_lexer": "ipython3",
   "version": "3.10.12"
  }
 },
 "nbformat": 4,
 "nbformat_minor": 5
}
